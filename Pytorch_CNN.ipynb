{
  "nbformat": 4,
  "nbformat_minor": 0,
  "metadata": {
    "colab": {
      "name": "Pytorch_CNN.ipynb",
      "provenance": [],
      "authorship_tag": "ABX9TyPjxKAZzPcmd/yX+mV7mv8V",
      "include_colab_link": true
    },
    "kernelspec": {
      "name": "python3",
      "display_name": "Python 3"
    }
  },
  "cells": [
    {
      "cell_type": "markdown",
      "metadata": {
        "id": "view-in-github",
        "colab_type": "text"
      },
      "source": [
        "<a href=\"https://colab.research.google.com/github/WZHOU007-0912/pages/blob/master/Pytorch_CNN.ipynb\" target=\"_parent\"><img src=\"https://colab.research.google.com/assets/colab-badge.svg\" alt=\"Open In Colab\"/></a>"
      ]
    },
    {
      "cell_type": "code",
      "metadata": {
        "id": "lv1pzg8mRoAz",
        "colab_type": "code",
        "colab": {}
      },
      "source": [
        "import os, sys\n",
        "import time, json, csv\n",
        "from glob import glob\n",
        "\n",
        "import numpy as np\n",
        "import pandas as pd\n",
        "\n",
        "# %% deep learning related \n",
        "import torch\n",
        "import torch.nn as nn\n",
        "import torch.nn.functional as F\n",
        "from torch.utils.data import DataLoader, Dataset\n",
        "\n",
        "#   progress bar and pretty print\n",
        "from tqdm import tqdm\n",
        "from pprint import pprint\n",
        "\n",
        "# upload the data from local drive\n",
        "from google.colab import files\n",
        "import io\n",
        "import torchvision.transforms as transforms\n",
        "from sklearn.utils import shuffle\n",
        "from torch.autograd import Variable\n",
        "import re"
      ],
      "execution_count": null,
      "outputs": []
    },
    {
      "cell_type": "markdown",
      "metadata": {
        "id": "ESxjFWdiXO9E",
        "colab_type": "text"
      },
      "source": [
        "## 1. 資料前處理 - Data Preprocessing\n",
        "首先，我們需要將我們的資料整理成 model 可以處理的形式"
      ]
    },
    {
      "cell_type": "markdown",
      "metadata": {
        "id": "E4zgc-CaXVdD",
        "colab_type": "text"
      },
      "source": [
        "### 1.1 資料讀取"
      ]
    },
    {
      "cell_type": "code",
      "metadata": {
        "id": "obx1RhifWqBc",
        "colab_type": "code",
        "colab": {}
      },
      "source": [
        "#files.upload()\n",
        "train_data = pd.read_csv('train.csv')\n",
        "test_data = pd.read_csv('test.csv')"
      ],
      "execution_count": null,
      "outputs": []
    },
    {
      "cell_type": "markdown",
      "metadata": {
        "id": "R6yKEJuSa6L9",
        "colab_type": "text"
      },
      "source": [
        "### 1.2 資料處理操作"
      ]
    },
    {
      "cell_type": "code",
      "metadata": {
        "id": "pkxos_BKzLx3",
        "colab_type": "code",
        "colab": {}
      },
      "source": [
        "test_passenger = test_data['PassengerId']"
      ],
      "execution_count": null,
      "outputs": []
    },
    {
      "cell_type": "code",
      "metadata": {
        "id": "BwQbOz0Ga_u4",
        "colab_type": "code",
        "colab": {
          "base_uri": "https://localhost:8080/",
          "height": 204
        },
        "outputId": "726b55ae-971b-437b-fd8d-43d30b6642b8"
      },
      "source": [
        "train_data.head()"
      ],
      "execution_count": null,
      "outputs": [
        {
          "output_type": "execute_result",
          "data": {
            "text/html": [
              "<div>\n",
              "<style scoped>\n",
              "    .dataframe tbody tr th:only-of-type {\n",
              "        vertical-align: middle;\n",
              "    }\n",
              "\n",
              "    .dataframe tbody tr th {\n",
              "        vertical-align: top;\n",
              "    }\n",
              "\n",
              "    .dataframe thead th {\n",
              "        text-align: right;\n",
              "    }\n",
              "</style>\n",
              "<table border=\"1\" class=\"dataframe\">\n",
              "  <thead>\n",
              "    <tr style=\"text-align: right;\">\n",
              "      <th></th>\n",
              "      <th>PassengerId</th>\n",
              "      <th>Survived</th>\n",
              "      <th>Pclass</th>\n",
              "      <th>Name</th>\n",
              "      <th>Sex</th>\n",
              "      <th>Age</th>\n",
              "      <th>SibSp</th>\n",
              "      <th>Parch</th>\n",
              "      <th>Ticket</th>\n",
              "      <th>Fare</th>\n",
              "      <th>Cabin</th>\n",
              "      <th>Embarked</th>\n",
              "    </tr>\n",
              "  </thead>\n",
              "  <tbody>\n",
              "    <tr>\n",
              "      <th>0</th>\n",
              "      <td>1</td>\n",
              "      <td>0</td>\n",
              "      <td>3</td>\n",
              "      <td>Braund, Mr. Owen Harris</td>\n",
              "      <td>male</td>\n",
              "      <td>22.0</td>\n",
              "      <td>1</td>\n",
              "      <td>0</td>\n",
              "      <td>A/5 21171</td>\n",
              "      <td>7.2500</td>\n",
              "      <td>NaN</td>\n",
              "      <td>S</td>\n",
              "    </tr>\n",
              "    <tr>\n",
              "      <th>1</th>\n",
              "      <td>2</td>\n",
              "      <td>1</td>\n",
              "      <td>1</td>\n",
              "      <td>Cumings, Mrs. John Bradley (Florence Briggs Th...</td>\n",
              "      <td>female</td>\n",
              "      <td>38.0</td>\n",
              "      <td>1</td>\n",
              "      <td>0</td>\n",
              "      <td>PC 17599</td>\n",
              "      <td>71.2833</td>\n",
              "      <td>C85</td>\n",
              "      <td>C</td>\n",
              "    </tr>\n",
              "    <tr>\n",
              "      <th>2</th>\n",
              "      <td>3</td>\n",
              "      <td>1</td>\n",
              "      <td>3</td>\n",
              "      <td>Heikkinen, Miss. Laina</td>\n",
              "      <td>female</td>\n",
              "      <td>26.0</td>\n",
              "      <td>0</td>\n",
              "      <td>0</td>\n",
              "      <td>STON/O2. 3101282</td>\n",
              "      <td>7.9250</td>\n",
              "      <td>NaN</td>\n",
              "      <td>S</td>\n",
              "    </tr>\n",
              "    <tr>\n",
              "      <th>3</th>\n",
              "      <td>4</td>\n",
              "      <td>1</td>\n",
              "      <td>1</td>\n",
              "      <td>Futrelle, Mrs. Jacques Heath (Lily May Peel)</td>\n",
              "      <td>female</td>\n",
              "      <td>35.0</td>\n",
              "      <td>1</td>\n",
              "      <td>0</td>\n",
              "      <td>113803</td>\n",
              "      <td>53.1000</td>\n",
              "      <td>C123</td>\n",
              "      <td>S</td>\n",
              "    </tr>\n",
              "    <tr>\n",
              "      <th>4</th>\n",
              "      <td>5</td>\n",
              "      <td>0</td>\n",
              "      <td>3</td>\n",
              "      <td>Allen, Mr. William Henry</td>\n",
              "      <td>male</td>\n",
              "      <td>35.0</td>\n",
              "      <td>0</td>\n",
              "      <td>0</td>\n",
              "      <td>373450</td>\n",
              "      <td>8.0500</td>\n",
              "      <td>NaN</td>\n",
              "      <td>S</td>\n",
              "    </tr>\n",
              "  </tbody>\n",
              "</table>\n",
              "</div>"
            ],
            "text/plain": [
              "   PassengerId  Survived  Pclass  ...     Fare Cabin  Embarked\n",
              "0            1         0       3  ...   7.2500   NaN         S\n",
              "1            2         1       1  ...  71.2833   C85         C\n",
              "2            3         1       3  ...   7.9250   NaN         S\n",
              "3            4         1       1  ...  53.1000  C123         S\n",
              "4            5         0       3  ...   8.0500   NaN         S\n",
              "\n",
              "[5 rows x 12 columns]"
            ]
          },
          "metadata": {
            "tags": []
          },
          "execution_count": 50
        }
      ]
    },
    {
      "cell_type": "code",
      "metadata": {
        "id": "FZ4OvVdC0ilN",
        "colab_type": "code",
        "colab": {
          "base_uri": "https://localhost:8080/",
          "height": 340
        },
        "outputId": "636575a7-0832-45f0-b396-1df3fa1007b9"
      },
      "source": [
        "train_data.info()"
      ],
      "execution_count": null,
      "outputs": [
        {
          "output_type": "stream",
          "text": [
            "<class 'pandas.core.frame.DataFrame'>\n",
            "RangeIndex: 891 entries, 0 to 890\n",
            "Data columns (total 12 columns):\n",
            " #   Column       Non-Null Count  Dtype  \n",
            "---  ------       --------------  -----  \n",
            " 0   PassengerId  891 non-null    int64  \n",
            " 1   Survived     891 non-null    int64  \n",
            " 2   Pclass       891 non-null    int64  \n",
            " 3   Name         891 non-null    object \n",
            " 4   Sex          891 non-null    object \n",
            " 5   Age          714 non-null    float64\n",
            " 6   SibSp        891 non-null    int64  \n",
            " 7   Parch        891 non-null    int64  \n",
            " 8   Ticket       891 non-null    object \n",
            " 9   Fare         891 non-null    float64\n",
            " 10  Cabin        204 non-null    object \n",
            " 11  Embarked     889 non-null    object \n",
            "dtypes: float64(2), int64(5), object(5)\n",
            "memory usage: 83.7+ KB\n"
          ],
          "name": "stdout"
        }
      ]
    },
    {
      "cell_type": "markdown",
      "metadata": {
        "id": "3ymSi43tGwTk",
        "colab_type": "text"
      },
      "source": [
        "## 2. Model Construction"
      ]
    },
    {
      "cell_type": "code",
      "metadata": {
        "id": "tPZbMrwm2G7m",
        "colab_type": "code",
        "colab": {}
      },
      "source": [
        "def preprocess (data):\n",
        "\n",
        "  data['Sex'].replace('female', 1, inplace = True)\n",
        "  data['Sex'].replace('male', 0, inplace = True)\n",
        "\n",
        "  data['Age'].fillna(data['Age'].median(), inplace = True)\n",
        "\n",
        "  drop_column = ['Ticket','Cabin', 'PassengerId']\n",
        "  data.drop(drop_column, axis = 1, inplace = True)\n",
        "\n",
        "  data['Fare'].fillna(data['Fare'].median(), inplace = True)\n",
        "\n",
        "  data['Embarked'].replace('S', 1, inplace = True)\n",
        "  data['Embarked'].replace('C', 2, inplace = True)\n",
        "  data['Embarked'].replace('Q', 3, inplace = True)\n",
        "  data['Embarked'].fillna(0, inplace = True)\n",
        "\n",
        "  #data = data.astype(np.float32)\n",
        "\n",
        "  return(data)"
      ],
      "execution_count": null,
      "outputs": []
    },
    {
      "cell_type": "code",
      "metadata": {
        "id": "nxuWT_Sh5MOa",
        "colab_type": "code",
        "colab": {}
      },
      "source": [
        "train = preprocess(train_data)\n",
        "test = preprocess(test_data)"
      ],
      "execution_count": null,
      "outputs": []
    },
    {
      "cell_type": "code",
      "metadata": {
        "id": "IBPK2Mu7k4bg",
        "colab_type": "code",
        "colab": {}
      },
      "source": [
        "all_data = [train, test]\n",
        "for i in all_data:\n",
        "  i['FamilySize'] = i['SibSp'] + i['Parch'] + 1\n",
        "\n",
        "def get_title(name):\n",
        "  title_search = re.search('([A-Za-z]+)\\.', name)\n",
        "  if title_search:\n",
        "    return title_search.group(1)\n",
        "  else:\n",
        "    return ''\n",
        "\n",
        "for i in all_data:\n",
        "  i['Title'] = i['Name'].apply(get_title)\n",
        "\n",
        "for i in all_data:\n",
        "  i['Title'] = i['Title'].replace(['Lady', 'Countess','Capt', 'Col','Don','Dr', 'Major', 'Rev', 'Sir', 'Jonkheer', 'Dona'], 'Rare')\n",
        "  i['Title'] = i['Title'].replace('Mlle', 'Miss')\n",
        "  i['Title'] = i['Title'].replace('Ms', 'Miss')\n",
        "  i['Title'] = i['Title'].replace('Mme', 'Mrs')\n",
        "\n",
        "for i in all_data:\n",
        "  i['Age_bin'] = pd.cut(i['Age'], bins = [0,12,20,40,120], labels=['Children','Teenage','Adult','Elder'])\n",
        "\n",
        "for i in all_data:\n",
        "  i['Fare_bin'] = pd.cut(i['Fare'], bins= [0,7.91,14.45,31,120], labels = ['Low', 'Median', 'Average', 'High'])\n",
        "\n",
        "for i in all_data:\n",
        "  drop_column = ['Age', 'Fare', 'Name']\n",
        "  i.drop(drop_column, axis = 1, inplace = True)\n"
      ],
      "execution_count": null,
      "outputs": []
    },
    {
      "cell_type": "code",
      "metadata": {
        "id": "BkLQLvvU3lak",
        "colab_type": "code",
        "colab": {
          "base_uri": "https://localhost:8080/",
          "height": 142
        },
        "outputId": "40cab9d0-928d-4803-e232-97199ed1f906"
      },
      "source": [
        "train.head(3)"
      ],
      "execution_count": null,
      "outputs": [
        {
          "output_type": "execute_result",
          "data": {
            "text/html": [
              "<div>\n",
              "<style scoped>\n",
              "    .dataframe tbody tr th:only-of-type {\n",
              "        vertical-align: middle;\n",
              "    }\n",
              "\n",
              "    .dataframe tbody tr th {\n",
              "        vertical-align: top;\n",
              "    }\n",
              "\n",
              "    .dataframe thead th {\n",
              "        text-align: right;\n",
              "    }\n",
              "</style>\n",
              "<table border=\"1\" class=\"dataframe\">\n",
              "  <thead>\n",
              "    <tr style=\"text-align: right;\">\n",
              "      <th></th>\n",
              "      <th>Survived</th>\n",
              "      <th>Pclass</th>\n",
              "      <th>Sex</th>\n",
              "      <th>SibSp</th>\n",
              "      <th>Parch</th>\n",
              "      <th>Embarked</th>\n",
              "      <th>FamilySize</th>\n",
              "      <th>Title</th>\n",
              "      <th>Age_bin</th>\n",
              "      <th>Fare_bin</th>\n",
              "    </tr>\n",
              "  </thead>\n",
              "  <tbody>\n",
              "    <tr>\n",
              "      <th>0</th>\n",
              "      <td>0</td>\n",
              "      <td>3</td>\n",
              "      <td>0</td>\n",
              "      <td>1</td>\n",
              "      <td>0</td>\n",
              "      <td>1.0</td>\n",
              "      <td>2</td>\n",
              "      <td>Mr</td>\n",
              "      <td>Adult</td>\n",
              "      <td>Low</td>\n",
              "    </tr>\n",
              "    <tr>\n",
              "      <th>1</th>\n",
              "      <td>1</td>\n",
              "      <td>1</td>\n",
              "      <td>1</td>\n",
              "      <td>1</td>\n",
              "      <td>0</td>\n",
              "      <td>2.0</td>\n",
              "      <td>2</td>\n",
              "      <td>Mrs</td>\n",
              "      <td>Adult</td>\n",
              "      <td>High</td>\n",
              "    </tr>\n",
              "    <tr>\n",
              "      <th>2</th>\n",
              "      <td>1</td>\n",
              "      <td>3</td>\n",
              "      <td>1</td>\n",
              "      <td>0</td>\n",
              "      <td>0</td>\n",
              "      <td>1.0</td>\n",
              "      <td>1</td>\n",
              "      <td>Miss</td>\n",
              "      <td>Adult</td>\n",
              "      <td>Median</td>\n",
              "    </tr>\n",
              "  </tbody>\n",
              "</table>\n",
              "</div>"
            ],
            "text/plain": [
              "   Survived  Pclass  Sex  SibSp  ...  FamilySize  Title  Age_bin Fare_bin\n",
              "0         0       3    0      1  ...           2     Mr    Adult      Low\n",
              "1         1       1    1      1  ...           2    Mrs    Adult     High\n",
              "2         1       3    1      0  ...           1   Miss    Adult   Median\n",
              "\n",
              "[3 rows x 10 columns]"
            ]
          },
          "metadata": {
            "tags": []
          },
          "execution_count": 55
        }
      ]
    },
    {
      "cell_type": "code",
      "metadata": {
        "id": "KHRO8WrZ3m5x",
        "colab_type": "code",
        "colab": {
          "base_uri": "https://localhost:8080/",
          "height": 142
        },
        "outputId": "b4356a21-6b3d-44cf-ad22-d01ed1edba6a"
      },
      "source": [
        "test.head(3)"
      ],
      "execution_count": null,
      "outputs": [
        {
          "output_type": "execute_result",
          "data": {
            "text/html": [
              "<div>\n",
              "<style scoped>\n",
              "    .dataframe tbody tr th:only-of-type {\n",
              "        vertical-align: middle;\n",
              "    }\n",
              "\n",
              "    .dataframe tbody tr th {\n",
              "        vertical-align: top;\n",
              "    }\n",
              "\n",
              "    .dataframe thead th {\n",
              "        text-align: right;\n",
              "    }\n",
              "</style>\n",
              "<table border=\"1\" class=\"dataframe\">\n",
              "  <thead>\n",
              "    <tr style=\"text-align: right;\">\n",
              "      <th></th>\n",
              "      <th>Pclass</th>\n",
              "      <th>Sex</th>\n",
              "      <th>SibSp</th>\n",
              "      <th>Parch</th>\n",
              "      <th>Embarked</th>\n",
              "      <th>FamilySize</th>\n",
              "      <th>Title</th>\n",
              "      <th>Age_bin</th>\n",
              "      <th>Fare_bin</th>\n",
              "    </tr>\n",
              "  </thead>\n",
              "  <tbody>\n",
              "    <tr>\n",
              "      <th>0</th>\n",
              "      <td>3</td>\n",
              "      <td>0</td>\n",
              "      <td>0</td>\n",
              "      <td>0</td>\n",
              "      <td>3</td>\n",
              "      <td>1</td>\n",
              "      <td>Mr</td>\n",
              "      <td>Adult</td>\n",
              "      <td>Low</td>\n",
              "    </tr>\n",
              "    <tr>\n",
              "      <th>1</th>\n",
              "      <td>3</td>\n",
              "      <td>1</td>\n",
              "      <td>1</td>\n",
              "      <td>0</td>\n",
              "      <td>1</td>\n",
              "      <td>2</td>\n",
              "      <td>Mrs</td>\n",
              "      <td>Elder</td>\n",
              "      <td>Low</td>\n",
              "    </tr>\n",
              "    <tr>\n",
              "      <th>2</th>\n",
              "      <td>2</td>\n",
              "      <td>0</td>\n",
              "      <td>0</td>\n",
              "      <td>0</td>\n",
              "      <td>3</td>\n",
              "      <td>1</td>\n",
              "      <td>Mr</td>\n",
              "      <td>Elder</td>\n",
              "      <td>Median</td>\n",
              "    </tr>\n",
              "  </tbody>\n",
              "</table>\n",
              "</div>"
            ],
            "text/plain": [
              "   Pclass  Sex  SibSp  Parch  Embarked  FamilySize Title Age_bin Fare_bin\n",
              "0       3    0      0      0         3           1    Mr   Adult      Low\n",
              "1       3    1      1      0         1           2   Mrs   Elder      Low\n",
              "2       2    0      0      0         3           1    Mr   Elder   Median"
            ]
          },
          "metadata": {
            "tags": []
          },
          "execution_count": 56
        }
      ]
    },
    {
      "cell_type": "code",
      "metadata": {
        "id": "3nh4lU5JzaFc",
        "colab_type": "code",
        "colab": {}
      },
      "source": [
        "train = pd.get_dummies(train, columns = ['Embarked', 'Title', 'Age_bin', 'Fare_bin'], prefix = ['Em_Type', 'Title', 'Age_Type', 'Fare_Type'])"
      ],
      "execution_count": null,
      "outputs": []
    },
    {
      "cell_type": "code",
      "metadata": {
        "id": "4ykn0Tlo3xkk",
        "colab_type": "code",
        "colab": {}
      },
      "source": [
        "test = pd.get_dummies(test, columns = ['Embarked', 'Title', 'Age_bin', 'Fare_bin'], prefix = ['Em_Type', 'Title', 'Age_Type', 'Fare_Type'])\n"
      ],
      "execution_count": null,
      "outputs": []
    },
    {
      "cell_type": "code",
      "metadata": {
        "id": "CWkHYfBo0I6j",
        "colab_type": "code",
        "colab": {
          "base_uri": "https://localhost:8080/",
          "height": 34
        },
        "outputId": "71615d33-0f6e-45ac-c8cd-b5f588bde6f0"
      },
      "source": [
        "x_test = test.iloc[:,:].values\n",
        "\n",
        "x_test.shape"
      ],
      "execution_count": null,
      "outputs": [
        {
          "output_type": "execute_result",
          "data": {
            "text/plain": [
              "(418, 21)"
            ]
          },
          "metadata": {
            "tags": []
          },
          "execution_count": 90
        }
      ]
    },
    {
      "cell_type": "code",
      "metadata": {
        "id": "qTXJ-q5U9b3W",
        "colab_type": "code",
        "colab": {}
      },
      "source": [
        "drop_column = ['Em_Type_0.0']\n",
        "train.drop(drop_column, axis = 1, inplace = True)"
      ],
      "execution_count": null,
      "outputs": []
    },
    {
      "cell_type": "code",
      "metadata": {
        "id": "jH4wLTwQc7Ur",
        "colab_type": "code",
        "colab": {
          "base_uri": "https://localhost:8080/",
          "height": 34
        },
        "outputId": "23893c81-a5ea-49d3-9408-476169159de5"
      },
      "source": [
        "x_train = train.iloc[:,1:].values\n",
        "y_train = train.iloc[:,0].values\n",
        "x_train.shape"
      ],
      "execution_count": null,
      "outputs": [
        {
          "output_type": "execute_result",
          "data": {
            "text/plain": [
              "(891, 21)"
            ]
          },
          "metadata": {
            "tags": []
          },
          "execution_count": 92
        }
      ]
    },
    {
      "cell_type": "code",
      "metadata": {
        "id": "Uuu4LmDjCZw6",
        "colab_type": "code",
        "colab": {}
      },
      "source": [
        "class Net(nn.Module):\n",
        "    def __init__(self):\n",
        "        super(Net, self).__init__()\n",
        "        self.fc1 = nn.Linear(21, 512)\n",
        "        self.fc2 = nn.Linear(512, 1024)\n",
        "        self.fc3 = nn.Linear(1024, 512)\n",
        "        self.fc4 = nn.Linear(512, 2)\n",
        "        self.dropout = nn.Dropout(0.2)\n",
        "        \n",
        "    def forward(self, x):\n",
        "        x = F.relu(self.fc1(x))\n",
        "        x = self.dropout(x)\n",
        "        x = F.relu(self.fc2(x))\n",
        "        x = self.dropout(x)\n",
        "        x = F.relu(self.fc3(x))\n",
        "        x = self.dropout(x)\n",
        "        x = self.fc4(x)\n",
        "        return x\n",
        "model = Net()"
      ],
      "execution_count": null,
      "outputs": []
    },
    {
      "cell_type": "markdown",
      "metadata": {
        "id": "T1SbQqiFG0KX",
        "colab_type": "text"
      },
      "source": [
        "## 3. Training"
      ]
    },
    {
      "cell_type": "code",
      "metadata": {
        "id": "msYOVIyXG3Ch",
        "colab_type": "code",
        "colab": {
          "base_uri": "https://localhost:8080/",
          "height": 527
        },
        "outputId": "86f36f44-2f6c-4b57-ec5a-57ac6c4db1e2"
      },
      "source": [
        "batch_size = 64\n",
        "batch_num = len(x_train) // batch_size\n",
        "criterion = nn.CrossEntropyLoss()\n",
        "optimizer = torch.optim.Adam(model.parameters(), lr=0.001)\n",
        "\n",
        "num_epoch = 600\n",
        "train_loss = 0\n",
        "\n",
        "for epoch in range(num_epoch):\n",
        "    #model.train()\n",
        "    x_train, y_train = shuffle(x_train, y_train)\n",
        "    for i in range(batch_num):\n",
        "      start = i * batch_size\n",
        "      end = start + batch_size\n",
        "      x_var = Variable(torch.FloatTensor(x_train[start:end]))\n",
        "      y_var = Variable(torch.LongTensor(y_train[start:end]))\n",
        "      optimizer.zero_grad()\n",
        "      out = model(x_var)\n",
        "      loss = criterion(out, y_var)\n",
        "      loss.backward()\n",
        "      optimizer.step()\n",
        "\n",
        "      values, labels = torch.max(out, 1) \n",
        "      # returns the maximum value and its position\n",
        "      train_correct = np.sum(labels.data.numpy() == y_train[start:end])\n",
        "      train_loss += loss.item()*batch_size\n",
        "\n",
        "    train_loss = train_loss/len(x_train)\n",
        "\n",
        "    if epoch % 20 == 0:\n",
        "      print(\"Epoch: {} \\tTrain AVG Loss: {} \\tTrain Accuracy: {}\".format(epoch+1, train_loss, train_correct / len(y_train[start:end]) ))"
      ],
      "execution_count": null,
      "outputs": [
        {
          "output_type": "stream",
          "text": [
            "Epoch: 1 \tTrain AVG Loss: 0.5260684958478283 \tTrain Accuracy: 0.859375\n",
            "Epoch: 21 \tTrain AVG Loss: 0.31584047514737223 \tTrain Accuracy: 0.875\n",
            "Epoch: 41 \tTrain AVG Loss: 0.2890207961360395 \tTrain Accuracy: 0.890625\n",
            "Epoch: 61 \tTrain AVG Loss: 0.2572344010110933 \tTrain Accuracy: 0.84375\n",
            "Epoch: 81 \tTrain AVG Loss: 0.2578755312311453 \tTrain Accuracy: 0.84375\n",
            "Epoch: 101 \tTrain AVG Loss: 0.24121378924363063 \tTrain Accuracy: 0.890625\n",
            "Epoch: 121 \tTrain AVG Loss: 0.23852366945973827 \tTrain Accuracy: 0.921875\n",
            "Epoch: 141 \tTrain AVG Loss: 0.24756792036339328 \tTrain Accuracy: 0.890625\n",
            "Epoch: 161 \tTrain AVG Loss: 0.2400628289225179 \tTrain Accuracy: 0.9375\n",
            "Epoch: 181 \tTrain AVG Loss: 0.22835348987188378 \tTrain Accuracy: 0.84375\n",
            "Epoch: 201 \tTrain AVG Loss: 0.2529568417956719 \tTrain Accuracy: 0.890625\n",
            "Epoch: 221 \tTrain AVG Loss: 0.2386459562569226 \tTrain Accuracy: 0.84375\n",
            "Epoch: 241 \tTrain AVG Loss: 0.23367339092015327 \tTrain Accuracy: 0.921875\n",
            "Epoch: 261 \tTrain AVG Loss: 0.23515910866290055 \tTrain Accuracy: 0.890625\n",
            "Epoch: 281 \tTrain AVG Loss: 0.24183125196927407 \tTrain Accuracy: 0.96875\n",
            "Epoch: 301 \tTrain AVG Loss: 0.23840227769713304 \tTrain Accuracy: 0.859375\n",
            "Epoch: 321 \tTrain AVG Loss: 0.2343695176947457 \tTrain Accuracy: 0.859375\n",
            "Epoch: 341 \tTrain AVG Loss: 0.22775071997827082 \tTrain Accuracy: 0.90625\n",
            "Epoch: 361 \tTrain AVG Loss: 0.22796618194224375 \tTrain Accuracy: 0.875\n",
            "Epoch: 381 \tTrain AVG Loss: 0.23003557196895993 \tTrain Accuracy: 0.921875\n",
            "Epoch: 401 \tTrain AVG Loss: 0.2408635308355727 \tTrain Accuracy: 0.90625\n",
            "Epoch: 421 \tTrain AVG Loss: 0.21765552506204777 \tTrain Accuracy: 0.921875\n",
            "Epoch: 441 \tTrain AVG Loss: 0.2326534979888504 \tTrain Accuracy: 0.921875\n",
            "Epoch: 461 \tTrain AVG Loss: 0.2432129162127156 \tTrain Accuracy: 0.90625\n",
            "Epoch: 481 \tTrain AVG Loss: 0.2259971807459806 \tTrain Accuracy: 0.890625\n",
            "Epoch: 501 \tTrain AVG Loss: 0.22607945153524453 \tTrain Accuracy: 0.890625\n",
            "Epoch: 521 \tTrain AVG Loss: 0.2335570404451621 \tTrain Accuracy: 0.875\n",
            "Epoch: 541 \tTrain AVG Loss: 0.22801263598781207 \tTrain Accuracy: 0.875\n",
            "Epoch: 561 \tTrain AVG Loss: 0.23895016918504258 \tTrain Accuracy: 0.875\n",
            "Epoch: 581 \tTrain AVG Loss: 0.23329228342178182 \tTrain Accuracy: 0.875\n"
          ],
          "name": "stdout"
        }
      ]
    },
    {
      "cell_type": "code",
      "metadata": {
        "id": "lvHiTHRbyL9u",
        "colab_type": "code",
        "colab": {}
      },
      "source": [
        "x_test = test.iloc[:,:].values\n",
        "\n",
        "x_test_var = Variable(torch.FloatTensor(x_test), requires_grad=True)\n",
        "with torch.no_grad():\n",
        "  test_result = model(x_test_var)\n",
        "values, labels = torch.max(test_result,1)\n",
        "Survived = labels.data.numpy()"
      ],
      "execution_count": null,
      "outputs": []
    },
    {
      "cell_type": "code",
      "metadata": {
        "id": "vnFqdoWP2K4g",
        "colab_type": "code",
        "colab": {}
      },
      "source": [
        "# import csv\n",
        "\n",
        "test_passenger = test_data['PassengerId']\n",
        "\n",
        "#test_data.head()\n",
        "submission = [['PassengerId', 'Survived']]\n",
        "\n",
        "for i in range(len(Survived)):\n",
        "  submission.append([test_passenger[i], Survived[i]])\n",
        "\n"
      ],
      "execution_count": null,
      "outputs": []
    },
    {
      "cell_type": "code",
      "metadata": {
        "id": "UAptBbtk26mp",
        "colab_type": "code",
        "colab": {}
      },
      "source": [
        "with open('submission.csv', 'w') as submissionFile:\n",
        "    writer = csv.writer(submissionFile)\n",
        "    writer.writerows(submission)"
      ],
      "execution_count": null,
      "outputs": []
    },
    {
      "cell_type": "markdown",
      "metadata": {
        "id": "ucyWtrHqspHp",
        "colab_type": "text"
      },
      "source": [
        "# Keras"
      ]
    },
    {
      "cell_type": "code",
      "metadata": {
        "id": "A2TdQ1-OqwL7",
        "colab_type": "code",
        "colab": {}
      },
      "source": [
        "from keras.models import Sequential\n",
        "from keras.layers.core import Dense, Dropout, Activation\n",
        "from keras.layers import Conv2D, MaxPooling2D, Flatten\n",
        "from keras.optimizers import SGD, Adam\n",
        "from keras.utils import np_utils"
      ],
      "execution_count": null,
      "outputs": []
    },
    {
      "cell_type": "code",
      "metadata": {
        "id": "ETy-f89HyA-9",
        "colab_type": "code",
        "colab": {}
      },
      "source": [
        "from keras.utils import to_categorical\n",
        "\n",
        "# 要将y转化成one-hot编码，才能给keras训练\n",
        "y_train = to_categorical(y_train)"
      ],
      "execution_count": null,
      "outputs": []
    },
    {
      "cell_type": "code",
      "metadata": {
        "id": "sqHDPIQQukpX",
        "colab_type": "code",
        "colab": {
          "base_uri": "https://localhost:8080/",
          "height": 34
        },
        "outputId": "bf87b1d2-6c06-452a-ec87-ca2754abc5a0"
      },
      "source": [
        "#x_train.shape\n",
        "len(x_train[0])"
      ],
      "execution_count": null,
      "outputs": [
        {
          "output_type": "execute_result",
          "data": {
            "text/plain": [
              "21"
            ]
          },
          "metadata": {
            "tags": []
          },
          "execution_count": 71
        }
      ]
    },
    {
      "cell_type": "code",
      "metadata": {
        "id": "PPe6q02HwQXA",
        "colab_type": "code",
        "colab": {
          "base_uri": "https://localhost:8080/",
          "height": 34
        },
        "outputId": "e0140861-8d7c-4bd1-d4e6-a8437fb9a2d7"
      },
      "source": [
        "y_train.shape"
      ],
      "execution_count": null,
      "outputs": [
        {
          "output_type": "execute_result",
          "data": {
            "text/plain": [
              "(891, 2)"
            ]
          },
          "metadata": {
            "tags": []
          },
          "execution_count": 76
        }
      ]
    },
    {
      "cell_type": "code",
      "metadata": {
        "id": "wqxfH4GztQnt",
        "colab_type": "code",
        "colab": {
          "base_uri": "https://localhost:8080/",
          "height": 1000
        },
        "outputId": "be361571-f182-4cbc-da08-cc16a1c5be29"
      },
      "source": [
        "if __name__ == '__main__':\n",
        "    \n",
        "    model = Sequential()\n",
        "\n",
        "    model.add(Dense(input_dim = len(x_train[0]),units=50, activation='relu'))\n",
        "    model.add(Dropout(0.5))\n",
        "    model.add(Dense(units = 50, activation = 'relu'))\n",
        "    model.add(Dropout(0.5))\n",
        "    model.add(Dense(units = 50, activation = 'relu'))\n",
        "    model.add(Dense(units = 2, activation='softmax'))\n",
        "    model.summary()\n",
        "\n",
        "    model.compile(loss = 'categorical_crossentropy', optimizer = 'adam', metrics = ['accuracy'])\n",
        "\n",
        "    model.fit(x_train, y_train, batch_size = 64, epochs = 30)\n",
        "\n",
        "    result_train = model.evaluate(x_train, y_train)\n",
        "    pred_result = model.predict_classes(x_test,verbose=0)\n",
        "\n",
        "    submission = pd.DataFrame({'PassengerId': test_passenger, 'Survived': pred_result}).to_csv('submission.csv', index=False, header=True)\n",
        "    print('Training Accuracy:',result_train[1])\n",
        "\n"
      ],
      "execution_count": null,
      "outputs": [
        {
          "output_type": "stream",
          "text": [
            "Model: \"sequential_9\"\n",
            "_________________________________________________________________\n",
            "Layer (type)                 Output Shape              Param #   \n",
            "=================================================================\n",
            "dense_29 (Dense)             (None, 50)                1100      \n",
            "_________________________________________________________________\n",
            "dropout_5 (Dropout)          (None, 50)                0         \n",
            "_________________________________________________________________\n",
            "dense_30 (Dense)             (None, 50)                2550      \n",
            "_________________________________________________________________\n",
            "dropout_6 (Dropout)          (None, 50)                0         \n",
            "_________________________________________________________________\n",
            "dense_31 (Dense)             (None, 50)                2550      \n",
            "_________________________________________________________________\n",
            "dense_32 (Dense)             (None, 2)                 102       \n",
            "=================================================================\n",
            "Total params: 6,302\n",
            "Trainable params: 6,302\n",
            "Non-trainable params: 0\n",
            "_________________________________________________________________\n",
            "Epoch 1/30\n",
            "14/14 [==============================] - 0s 2ms/step - loss: 0.7492 - accuracy: 0.5365\n",
            "Epoch 2/30\n",
            "14/14 [==============================] - 0s 2ms/step - loss: 0.6767 - accuracy: 0.6195\n",
            "Epoch 3/30\n",
            "14/14 [==============================] - 0s 2ms/step - loss: 0.6342 - accuracy: 0.6566\n",
            "Epoch 4/30\n",
            "14/14 [==============================] - 0s 3ms/step - loss: 0.6303 - accuracy: 0.6611\n",
            "Epoch 5/30\n",
            "14/14 [==============================] - 0s 2ms/step - loss: 0.6127 - accuracy: 0.6700\n",
            "Epoch 6/30\n",
            "14/14 [==============================] - 0s 2ms/step - loss: 0.5925 - accuracy: 0.7026\n",
            "Epoch 7/30\n",
            "14/14 [==============================] - 0s 2ms/step - loss: 0.5675 - accuracy: 0.7351\n",
            "Epoch 8/30\n",
            "14/14 [==============================] - 0s 2ms/step - loss: 0.5549 - accuracy: 0.7419\n",
            "Epoch 9/30\n",
            "14/14 [==============================] - 0s 2ms/step - loss: 0.5356 - accuracy: 0.7643\n",
            "Epoch 10/30\n",
            "14/14 [==============================] - 0s 2ms/step - loss: 0.5050 - accuracy: 0.7811\n",
            "Epoch 11/30\n",
            "14/14 [==============================] - 0s 2ms/step - loss: 0.5054 - accuracy: 0.7722\n",
            "Epoch 12/30\n",
            "14/14 [==============================] - 0s 2ms/step - loss: 0.5047 - accuracy: 0.7845\n",
            "Epoch 13/30\n",
            "14/14 [==============================] - 0s 2ms/step - loss: 0.5167 - accuracy: 0.7800\n",
            "Epoch 14/30\n",
            "14/14 [==============================] - 0s 2ms/step - loss: 0.5025 - accuracy: 0.7912\n",
            "Epoch 15/30\n",
            "14/14 [==============================] - 0s 2ms/step - loss: 0.4809 - accuracy: 0.7901\n",
            "Epoch 16/30\n",
            "14/14 [==============================] - 0s 2ms/step - loss: 0.5054 - accuracy: 0.7688\n",
            "Epoch 17/30\n",
            "14/14 [==============================] - 0s 2ms/step - loss: 0.5062 - accuracy: 0.7767\n",
            "Epoch 18/30\n",
            "14/14 [==============================] - 0s 2ms/step - loss: 0.4775 - accuracy: 0.8103\n",
            "Epoch 19/30\n",
            "14/14 [==============================] - 0s 2ms/step - loss: 0.4814 - accuracy: 0.8013\n",
            "Epoch 20/30\n",
            "14/14 [==============================] - 0s 2ms/step - loss: 0.4830 - accuracy: 0.7957\n",
            "Epoch 21/30\n",
            "14/14 [==============================] - 0s 2ms/step - loss: 0.4534 - accuracy: 0.8126\n",
            "Epoch 22/30\n",
            "14/14 [==============================] - 0s 2ms/step - loss: 0.4642 - accuracy: 0.8114\n",
            "Epoch 23/30\n",
            "14/14 [==============================] - 0s 2ms/step - loss: 0.4669 - accuracy: 0.8047\n",
            "Epoch 24/30\n",
            "14/14 [==============================] - 0s 2ms/step - loss: 0.4409 - accuracy: 0.8148\n",
            "Epoch 25/30\n",
            "14/14 [==============================] - 0s 2ms/step - loss: 0.4412 - accuracy: 0.8159\n",
            "Epoch 26/30\n",
            "14/14 [==============================] - 0s 2ms/step - loss: 0.4544 - accuracy: 0.8058\n",
            "Epoch 27/30\n",
            "14/14 [==============================] - 0s 2ms/step - loss: 0.4467 - accuracy: 0.8193\n",
            "Epoch 28/30\n",
            "14/14 [==============================] - 0s 2ms/step - loss: 0.4495 - accuracy: 0.8159\n",
            "Epoch 29/30\n",
            "14/14 [==============================] - 0s 2ms/step - loss: 0.4447 - accuracy: 0.8204\n",
            "Epoch 30/30\n",
            "14/14 [==============================] - 0s 2ms/step - loss: 0.4545 - accuracy: 0.8126\n",
            "28/28 [==============================] - 0s 1ms/step - loss: 0.4026 - accuracy: 0.8339\n",
            "Training Accuracy: 0.8338944911956787\n"
          ],
          "name": "stdout"
        }
      ]
    }
  ]
}